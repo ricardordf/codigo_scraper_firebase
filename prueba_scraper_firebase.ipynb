{
 "cells": [
  {
   "cell_type": "code",
   "execution_count": 2,
   "id": "e826b3c0-4e0f-48df-9cd8-2a9e8b06568d",
   "metadata": {},
   "outputs": [],
   "source": [
    "#Glosario de imports\n",
    "from bs4 import BeautifulSoup\n",
    "import requests\n",
    "import re\n",
    "import os\n",
    "from datetime import datetime\n",
    "import firebase_admin\n",
    "from firebase_admin import credentials, firestore"
   ]
  },
  {
   "cell_type": "code",
   "execution_count": 4,
   "id": "d0dbc516-7ce3-4660-aef1-dea2200ec091",
   "metadata": {},
   "outputs": [
    {
     "data": {
      "text/plain": [
       "<firebase_admin.App at 0x1825da1af70>"
      ]
     },
     "execution_count": 4,
     "metadata": {},
     "output_type": "execute_result"
    }
   ],
   "source": [
    "cred = credentials.Certificate(\"rich12-efbe7-firebase-adminsdk-yeszr-7260cd4be1.json\")\n",
    "firebase_admin.initialize_app(cred)"
   ]
  },
  {
   "cell_type": "code",
   "execution_count": 22,
   "id": "f233de8b-aa5b-4b6d-9eb4-ab9a98ea6043",
   "metadata": {},
   "outputs": [],
   "source": [
    "#Metodos sacar URL's de cada medio\n",
    "\n",
    "def lista_urls_elmundo(url):\n",
    "    lista = [] \n",
    "    html = requests.get(url)\n",
    "\n",
    "    web = BeautifulSoup(html.text, 'html.parser')\n",
    "    noticias = web.find_all(\"a\", class_=\"ue-c-cover-content__link-whole-content\")\n",
    "    \n",
    "    for url in noticias:\n",
    "        url_noticia = url.get('href')\n",
    "        lista.append(url_noticia)\n",
    "    return lista\n",
    "\n",
    "\n"
   ]
  },
  {
   "cell_type": "code",
   "execution_count": 28,
   "id": "604d4ea6-b2e8-4319-b4de-272f9ff3885b",
   "metadata": {},
   "outputs": [],
   "source": [
    "lista_ciencia_elmundo = lista_urls_elmundo(\"https://www.elmundo.es/ciencia-y-salud/ciencia.html\")\n",
    "lista_tecnologia_elmundo = lista_urls_elmundo(\"https://www.elmundo.es/tecnologia.html\")\n",
    "lista_salud_elmundo = lista_urls_elmundo(\"https://www.elmundo.es/ciencia-y-salud/salud.html\")"
   ]
  },
  {
   "cell_type": "code",
   "execution_count": 24,
   "id": "8f82f8ec-dfba-419f-88a1-3ad1e2564ea2",
   "metadata": {},
   "outputs": [],
   "source": [
    "db = firestore.client()"
   ]
  },
  {
   "cell_type": "code",
   "execution_count": 29,
   "id": "c11d5ae0-5c9e-4735-940f-ca40dce88ef7",
   "metadata": {},
   "outputs": [],
   "source": [
    "def guardar_noticias_mundo(lista_urls, tipo):\n",
    "    index = 0\n",
    "    for url in lista_urls:\n",
    "        html = requests.get(url)\n",
    "        web = BeautifulSoup(html.text, 'html.parser')\n",
    "        \n",
    "        etiquetas = \"\"\n",
    "        tags = web.find_all('li', class_=\"ue-c-article__tags-item\")\n",
    "        titulo = web.find('h1', class_=\"ue-c-article__headline js-headline\")\n",
    "        entradilla = web.find('p', class_=\"ue-c-article__standfirst\")\n",
    "\n",
    "        if titulo == None:\n",
    "            titulo = \"\"\n",
    "        else:\n",
    "            titulo = titulo.text\n",
    "\n",
    "        if entradilla == None:\n",
    "            entradilla = \"\"\n",
    "        else:\n",
    "            entradilla = entradilla.text\n",
    "        if tags == None:\n",
    "            tags = \"\"\n",
    "        else:\n",
    "            for t in tags:\n",
    "                etiquetas = etiquetas + \", \" + t.get_text()\n",
    "\n",
    "        cuerpo= \"\"\n",
    "        for para in web.find_all('p', class_=\"\"):\n",
    "            cuerpo = cuerpo + para.get_text()\n",
    "        \n",
    "        \n",
    "        index = index + 1\n",
    "        collection = db.collection('no_odio')\n",
    "        \n",
    "        data = [({\"titulo\": titulo,\n",
    "           \"entradilla\": entradilla,\n",
    "           \"cuerpo\": cuerpo})]\n",
    "        \n",
    "        documento = 'noticia' + str(tipo) + str(index)\n",
    "        collection.document(documento).set(data[0])\n",
    "        \n",
    "        \n"
   ]
  },
  {
   "cell_type": "code",
   "execution_count": 30,
   "id": "38fef2f1-c935-4e98-8e9c-01d2fe2a7dd7",
   "metadata": {},
   "outputs": [],
   "source": [
    "guardar_noticias_mundo(lista_tecnologia_elmundo, \"tecnologia\")\n",
    "guardar_noticias_mundo(lista_ciencia_elmundo, \"ciencia\")\n",
    "guardar_noticias_mundo(lista_salud_elmundo, \"salud\")\n"
   ]
  }
 ],
 "metadata": {
  "kernelspec": {
   "display_name": "Python 3 (ipykernel)",
   "language": "python",
   "name": "python3"
  },
  "language_info": {
   "codemirror_mode": {
    "name": "ipython",
    "version": 3
   },
   "file_extension": ".py",
   "mimetype": "text/x-python",
   "name": "python",
   "nbconvert_exporter": "python",
   "pygments_lexer": "ipython3",
   "version": "3.9.7"
  }
 },
 "nbformat": 4,
 "nbformat_minor": 5
}
